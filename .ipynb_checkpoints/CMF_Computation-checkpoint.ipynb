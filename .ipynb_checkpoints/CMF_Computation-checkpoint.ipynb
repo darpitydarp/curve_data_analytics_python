{
 "cells": [
  {
   "cell_type": "markdown",
   "metadata": {},
   "source": [
    "# CMF Computation Tool"
   ]
  },
  {
   "cell_type": "code",
   "execution_count": 1,
   "metadata": {},
   "outputs": [],
   "source": [
    "import pandas as pd"
   ]
  },
  {
   "cell_type": "code",
   "execution_count": 18,
   "metadata": {},
   "outputs": [],
   "source": [
    "D1_data = pd.read_excel('data/D1_Phonolite_Input.xlsx', sheet_name = \"Formatting Data\")\n",
    "D2_data = pd.read_excel('data/D2_LWA_Input.xlsx', sheet_name = \"Formatting Data\")\n",
    "D6_data = pd.read_excel('data/D6_HFST_Input.xlsx', sheet_name = \"Formatting Data\")\n",
    "\n",
    "# Show column names and data types\n",
    "# for idx in range(len(crash_data.columns)):\n",
    "#     print(crash_data.columns[idx], '\\t' ,crash_data.dtypes[idx])\n"
   ]
  },
  {
   "cell_type": "markdown",
   "metadata": {},
   "source": [
    "## Compute Naive CMFs"
   ]
  },
  {
   "cell_type": "code",
   "execution_count": 25,
   "metadata": {},
   "outputs": [],
   "source": [
    "def get_pivot_counts(data: pd.DataFrame, index='curve_id', field = 'Relation_To_HFST_Treatment_No_Covid', unique_values = ['before treatment', 'after treatment', 'unknown']):\n",
    "    pivot_count = pd.DataFrame()\n",
    "    for value in unique_values:\n",
    "        pivot_count[value] = pd.pivot_table(\n",
    "            data=data,\n",
    "            index=index,\n",
    "            values=[field],\n",
    "            aggfunc={\n",
    "                field: lambda column: column[column == value].count(),\n",
    "            }\n",
    "        )\n",
    "    pivot_count['Grand Total'] = pivot_count.sum(axis=1)\n",
    "    return pivot_count\n",
    "\n",
    "\n",
    "def compute_cmf(pivot_table: pd.DataFrame, years_before_treatment=3, years_after_treatment=3, before_columne_name='before treatment', after_column_name='after treatment'):\n",
    "    freq_before = pivot_table[before_columne_name].sum(axis=0)/years_before_treatment\n",
    "    freq_after = pivot_table[after_column_name].sum(axis=0)/years_after_treatment\n",
    "    if freq_before == 0:\n",
    "        return 1\n",
    "    return freq_after/freq_before\n",
    "\n",
    "def naive_CMF(data: pd.DataFrame, years_before_treatment=3, years_after_treatment=3):\n",
    "    freq_before = len(data[data[\"Relation To Treatment\"] == \"before treatment\"].index)\n",
    "    freq_after = len(data[data[\"Relation To Treatment\"] == \"after treatment\"].index)\n",
    "    if freq_before == 0:\n",
    "        return 1\n",
    "    return freq_after/freq_before"
   ]
  },
  {
   "cell_type": "code",
   "execution_count": 26,
   "metadata": {},
   "outputs": [
    {
     "data": {
      "text/plain": [
       "0.5104790419161677"
      ]
     },
     "execution_count": 26,
     "metadata": {},
     "output_type": "execute_result"
    }
   ],
   "source": [
    "naive_CMF(D6_data)"
   ]
  },
  {
   "cell_type": "markdown",
   "metadata": {},
   "source": [
    "### Total CMF"
   ]
  },
  {
   "cell_type": "code",
   "execution_count": 6,
   "metadata": {},
   "outputs": [
    {
     "data": {
      "text/html": [
       "<div>\n",
       "<style scoped>\n",
       "    .dataframe tbody tr th:only-of-type {\n",
       "        vertical-align: middle;\n",
       "    }\n",
       "\n",
       "    .dataframe tbody tr th {\n",
       "        vertical-align: top;\n",
       "    }\n",
       "\n",
       "    .dataframe thead th {\n",
       "        text-align: right;\n",
       "    }\n",
       "</style>\n",
       "<table border=\"1\" class=\"dataframe\">\n",
       "  <thead>\n",
       "    <tr style=\"text-align: right;\">\n",
       "      <th></th>\n",
       "      <th>before treatment</th>\n",
       "      <th>after treatment</th>\n",
       "      <th>unknown</th>\n",
       "      <th>Grand Total</th>\n",
       "    </tr>\n",
       "    <tr>\n",
       "      <th>curve_id</th>\n",
       "      <th></th>\n",
       "      <th></th>\n",
       "      <th></th>\n",
       "      <th></th>\n",
       "    </tr>\n",
       "  </thead>\n",
       "  <tbody>\n",
       "    <tr>\n",
       "      <th>1</th>\n",
       "      <td>2</td>\n",
       "      <td>1</td>\n",
       "      <td>1</td>\n",
       "      <td>4</td>\n",
       "    </tr>\n",
       "    <tr>\n",
       "      <th>2</th>\n",
       "      <td>3</td>\n",
       "      <td>1</td>\n",
       "      <td>0</td>\n",
       "      <td>4</td>\n",
       "    </tr>\n",
       "    <tr>\n",
       "      <th>3</th>\n",
       "      <td>1</td>\n",
       "      <td>0</td>\n",
       "      <td>0</td>\n",
       "      <td>1</td>\n",
       "    </tr>\n",
       "    <tr>\n",
       "      <th>4</th>\n",
       "      <td>0</td>\n",
       "      <td>0</td>\n",
       "      <td>1</td>\n",
       "      <td>1</td>\n",
       "    </tr>\n",
       "    <tr>\n",
       "      <th>6</th>\n",
       "      <td>2</td>\n",
       "      <td>1</td>\n",
       "      <td>2</td>\n",
       "      <td>5</td>\n",
       "    </tr>\n",
       "    <tr>\n",
       "      <th>...</th>\n",
       "      <td>...</td>\n",
       "      <td>...</td>\n",
       "      <td>...</td>\n",
       "      <td>...</td>\n",
       "    </tr>\n",
       "    <tr>\n",
       "      <th>269</th>\n",
       "      <td>1</td>\n",
       "      <td>0</td>\n",
       "      <td>1</td>\n",
       "      <td>2</td>\n",
       "    </tr>\n",
       "    <tr>\n",
       "      <th>270</th>\n",
       "      <td>2</td>\n",
       "      <td>0</td>\n",
       "      <td>0</td>\n",
       "      <td>2</td>\n",
       "    </tr>\n",
       "    <tr>\n",
       "      <th>271</th>\n",
       "      <td>0</td>\n",
       "      <td>3</td>\n",
       "      <td>0</td>\n",
       "      <td>3</td>\n",
       "    </tr>\n",
       "    <tr>\n",
       "      <th>272</th>\n",
       "      <td>2</td>\n",
       "      <td>1</td>\n",
       "      <td>0</td>\n",
       "      <td>3</td>\n",
       "    </tr>\n",
       "    <tr>\n",
       "      <th>273</th>\n",
       "      <td>0</td>\n",
       "      <td>0</td>\n",
       "      <td>4</td>\n",
       "      <td>4</td>\n",
       "    </tr>\n",
       "  </tbody>\n",
       "</table>\n",
       "<p>204 rows × 4 columns</p>\n",
       "</div>"
      ],
      "text/plain": [
       "          before treatment  after treatment  unknown  Grand Total\n",
       "curve_id                                                         \n",
       "1                        2                1        1            4\n",
       "2                        3                1        0            4\n",
       "3                        1                0        0            1\n",
       "4                        0                0        1            1\n",
       "6                        2                1        2            5\n",
       "...                    ...              ...      ...          ...\n",
       "269                      1                0        1            2\n",
       "270                      2                0        0            2\n",
       "271                      0                3        0            3\n",
       "272                      2                1        0            3\n",
       "273                      0                0        4            4\n",
       "\n",
       "[204 rows x 4 columns]"
      ]
     },
     "execution_count": 6,
     "metadata": {},
     "output_type": "execute_result"
    }
   ],
   "source": [
    "# pivot table\n",
    "total_cmf_table = get_pivot_counts(data=crash_data, field='Relation_To_HFST_Treatment_No_Covid')\n",
    "total_cmf_table\n"
   ]
  },
  {
   "cell_type": "code",
   "execution_count": 7,
   "metadata": {},
   "outputs": [
    {
     "name": "stdout",
     "output_type": "stream",
     "text": [
      "total cmf without covid data:  0.7\n",
      "total cmf with covid data:  0.69\n"
     ]
    }
   ],
   "source": [
    "# cmf results\n",
    "total_cmf_table = get_pivot_counts(data=crash_data, field='Relation_To_HFST_Treatment_No_Covid')\n",
    "total_cmf = compute_cmf(total_cmf_table, years_after_treatment=3, years_before_treatment=3)\n",
    "print(\"total cmf without covid data: \", total_cmf.round(2))\n",
    "\n",
    "total_cmf_table = get_pivot_counts(data=crash_data, field='Relation_To_HFST_Treatment')\n",
    "total_cmf = compute_cmf(total_cmf_table, years_after_treatment=4, years_before_treatment=3)\n",
    "print(\"total cmf with covid data: \", total_cmf.round(2))\n"
   ]
  },
  {
   "cell_type": "markdown",
   "metadata": {},
   "source": [
    "### Single Vehicle CMF\n"
   ]
  },
  {
   "cell_type": "code",
   "execution_count": 8,
   "metadata": {},
   "outputs": [
    {
     "name": "stdout",
     "output_type": "stream",
     "text": [
      "total cmf without covid data:  0.62\n",
      "total cmf with covid data:  0.6\n"
     ]
    }
   ],
   "source": [
    "# cmf results\n",
    "filtered_data = crash_data[crash_data['Single_Vehicle']]\n",
    "pivot_table = get_pivot_counts(data=filtered_data, field='Relation_To_HFST_Treatment_No_Covid')\n",
    "cmf = compute_cmf(pivot_table, years_after_treatment=3, years_before_treatment=3)\n",
    "print(\"total cmf without covid data: \", cmf.round(2))\n",
    "\n",
    "filtered_data = crash_data[crash_data['Single_Vehicle']]\n",
    "pivot_table = get_pivot_counts(data=filtered_data, field='Relation_To_HFST_Treatment')\n",
    "cmf = compute_cmf(pivot_table, years_after_treatment=4, years_before_treatment=3)\n",
    "print(\"total cmf with covid data: \", cmf.round(2))\n"
   ]
  },
  {
   "cell_type": "markdown",
   "metadata": {},
   "source": [
    "### Surface Condition"
   ]
  },
  {
   "cell_type": "code",
   "execution_count": 9,
   "metadata": {},
   "outputs": [
    {
     "name": "stdout",
     "output_type": "stream",
     "text": [
      "total cmf without covid data:  0.47\n",
      "total cmf with covid data:  0.44\n"
     ]
    }
   ],
   "source": [
    "# cmf results\n",
    "filtered_data = crash_data[crash_data['Surface_Co']=='Wet']\n",
    "pivot_table = get_pivot_counts(data=filtered_data, field='Relation_To_HFST_Treatment_No_Covid')\n",
    "cmf = compute_cmf(pivot_table, years_after_treatment=3, years_before_treatment=3)\n",
    "print(\"total cmf without covid data: \", cmf.round(2))\n",
    "\n",
    "filtered_data = crash_data[crash_data['Surface_Co']=='Wet']\n",
    "pivot_table = get_pivot_counts(data=filtered_data, field='Relation_To_HFST_Treatment')\n",
    "cmf = compute_cmf(pivot_table, years_after_treatment=4, years_before_treatment=3)\n",
    "print(\"total cmf with covid data: \", cmf.round(2))\n"
   ]
  }
 ],
 "metadata": {
  "interpreter": {
   "hash": "b3b60375d68594932bed6223c1f9271c138c133c1c41c51b53cf6e41e47ad321"
  },
  "kernelspec": {
   "display_name": "Python 3 (ipykernel)",
   "language": "python",
   "name": "python3"
  },
  "language_info": {
   "codemirror_mode": {
    "name": "ipython",
    "version": 3
   },
   "file_extension": ".py",
   "mimetype": "text/x-python",
   "name": "python",
   "nbconvert_exporter": "python",
   "pygments_lexer": "ipython3",
   "version": "3.10.4"
  }
 },
 "nbformat": 4,
 "nbformat_minor": 4
}
