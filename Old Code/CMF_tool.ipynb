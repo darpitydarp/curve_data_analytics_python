{
 "cells": [
  {
   "cell_type": "markdown",
   "metadata": {},
   "source": [
    "# CMF Computation Tool"
   ]
  },
  {
   "cell_type": "code",
   "execution_count": 1,
   "metadata": {},
   "outputs": [],
   "source": [
    "import pandas as pd"
   ]
  },
  {
   "cell_type": "code",
   "execution_count": 2,
   "metadata": {},
   "outputs": [
    {
     "name": "stdout",
     "output_type": "stream",
     "text": [
      "FID \t int64\n",
      "Shape \t object\n",
      "OBJECTID \t int64\n",
      "OBJECTID__ \t int64\n",
      "Shape__ \t object\n",
      "Collision_ \t int64\n",
      "Agency_Nam \t object\n",
      "Date_and_T \t datetime64[ns]\n",
      "Area__Coun \t object\n",
      "Road_Name \t object\n",
      "Intersecti \t object\n",
      "KABCO_Seve \t object\n",
      "X__of_Fata \t int64\n",
      "X__Serious \t int64\n",
      "X__Visible \t int64\n",
      "Manner_of_ \t object\n",
      "Location_a \t object\n",
      "First_Harm \t object\n",
      "Most_Harmf \t object\n",
      "Operator__ \t object\n",
      "X__of_Vehi \t int64\n",
      "Vehicle_Ma \t object\n",
      "Direction_ \t object\n",
      "Light_Cond \t object\n",
      "Surface_Co \t object\n",
      "Driver_Age \t int64\n",
      "Safety_Equ \t object\n",
      "Vehicle_Ty \t object\n",
      "Inventory_ \t object\n",
      "MilePoint \t float64\n",
      "Latitude \t float64\n",
      "Longitude \t float64\n",
      "OBJECTID_1 \t int64\n",
      "OBJECTID_2 \t int64\n",
      "OBJECTID_3 \t int64\n",
      "c_segid \t object\n",
      "c_sectid \t int64\n",
      "c_id \t int64\n",
      "c_type \t object\n",
      "c_radius \t float64\n",
      "c_devangle \t float64\n",
      "c_length \t float64\n",
      "c_pc_x \t float64\n",
      "c_pc_y \t float64\n",
      "c_pt_x \t float64\n",
      "c_pt_y \t float64\n",
      "g_rcd \t object\n",
      "g_rte_typ \t int64\n",
      "g_rte_cod \t int64\n",
      "g_rte_numb \t int64\n",
      "g_rte_suff \t object\n",
      "g_spd_limt \t int64\n",
      "p_bbi_max \t float64\n",
      "p_bbi_95th \t float64\n",
      "p_pc_alti \t float64\n",
      "p_mid_alti \t float64\n",
      "p_pt_alti \t float64\n",
      "p_spd_limt \t int64\n",
      "p_adv_sped \t float64\n",
      "p_sped_dif \t float64\n",
      "p_colldate \t datetime64[ns]\n",
      "p_note \t object\n",
      "Shape_Leng \t float64\n",
      "OBJECTID_4 \t int64\n",
      "FID_1 \t int64\n",
      "RCD \t object\n",
      "County_Nam \t object\n",
      "ROUTE_TYPE \t int64\n",
      "ROUTE_NUM \t object\n",
      "DISTRICT \t int64\n",
      "TRAVEL_WAY \t int64\n",
      "OPERATION \t int64\n",
      "T_LANES_LE \t int64\n",
      "T_LANES_RI \t int64\n",
      "TOTAL_LANE \t int64\n",
      "NHS \t int64\n",
      "F_SYSTEM \t int64\n",
      "DIVIDED \t object\n",
      "County_Cod \t int64\n",
      "Route_Numb \t int64\n",
      "Route_Suff \t object\n",
      "TYPE \t object\n",
      "AdjUrbanAr \t object\n",
      "AdjUrbanCo \t int64\n",
      "SPEED_LIMI \t int64\n",
      "AADT \t int64\n",
      "City_Name \t object\n",
      "City_Code \t int64\n",
      "ShapeLengt \t float64\n",
      "Cong_Dist \t int64\n",
      "Ownership \t object\n",
      "AdjAADT \t int64\n",
      "UniqueID \t int64\n",
      "FMEAS \t float64\n",
      "TMEAS \t float64\n",
      "UniqueID_1 \t int64\n",
      "Check_ \t int64\n",
      "Shape_Le_1 \t float64\n",
      "BUFF_DIST \t int64\n",
      "ORIG_FID \t int64\n",
      "Shape_Le_2 \t float64\n",
      "Distance \t int64\n",
      "Shape_Le_3 \t float64\n",
      "OBJECTID_5 \t int64\n",
      "Station_ID \t object\n",
      "Functional \t object\n",
      "Lat_Long \t object\n",
      "Lat_Long_X \t float64\n",
      "Lat_Long_Y \t float64\n",
      "Lat \t float64\n",
      "Long \t float64\n",
      "Distance_1 \t float64\n",
      "Shape_Le_4 \t float64\n",
      "CurveID \t int64\n",
      "ADT2020 \t int64\n",
      "Tru2020 \t float64\n",
      "ADT2019 \t int64\n",
      "Tru2019 \t float64\n",
      "ADT2018 \t int64\n",
      "Tru2018 \t float64\n",
      "ADT2017 \t int64\n",
      "Tru2017 \t int64\n",
      "ADT2016 \t int64\n",
      "Tru2016 \t float64\n",
      "ADT2015 \t int64\n",
      "Tru2015 \t float64\n",
      "ADT2014 \t int64\n",
      "Tru2014 \t float64\n",
      "ADT2013 \t int64\n",
      "Tru2013 \t float64\n",
      "ADT2012 \t int64\n",
      "Tru2012 \t float64\n",
      "ADT2011 \t int64\n",
      "Tru2011 \t float64\n",
      "Distance_2 \t float64\n"
     ]
    }
   ],
   "source": [
    "crash_data = pd.read_excel('D6 Crash Data.xlsx')\n",
    "\n",
    "# Show column names and data types\n",
    "for idx in range(len(crash_data.columns)):\n",
    "    print(crash_data.columns[idx], '\\t' ,crash_data.dtypes[idx])\n"
   ]
  },
  {
   "cell_type": "markdown",
   "metadata": {},
   "source": [
    "## Pre-process crash data"
   ]
  },
  {
   "cell_type": "code",
   "execution_count": 3,
   "metadata": {},
   "outputs": [],
   "source": [
    "# function for determine relation to treatment\n",
    "def relation_to_treatment(data_year: int, treatment_year: int = 2016, exclude_years: list = [2020]):\n",
    "    if data_year == treatment_year or data_year in exclude_years:\n",
    "        return \"unknown\"\n",
    "    elif data_year < treatment_year:\n",
    "        return \"before treatment\"\n",
    "    elif data_year > treatment_year:\n",
    "        return \"after treatment\"\n"
   ]
  },
  {
   "cell_type": "code",
   "execution_count": 4,
   "metadata": {},
   "outputs": [],
   "source": [
    "# pre-processing\n",
    "\n",
    "# assign OBJECTID behind 'Longitude' as curve_id\n",
    "crash_data['curve_id'] = crash_data.iloc[:, crash_data.columns.get_loc('Longitude')+1]\n",
    "crash_data['year'] = crash_data.apply(lambda row: row['Date_and_T'].year, axis=1)\n",
    "\n",
    "# relation to treatment excluding covid year\n",
    "crash_data['Relation_To_HFST_Treatment_No_Covid'] = crash_data.apply(lambda row: relation_to_treatment(row['year'], treatment_year=2016, exclude_years=[2020]), axis=1)\n",
    "# relation to treatment including covid year\n",
    "crash_data['Relation_To_HFST_Treatment'] = crash_data.apply(lambda row: relation_to_treatment(row['year'], treatment_year=2016, exclude_years=[]), axis=1)\n",
    "# single vehicle crash\n",
    "crash_data['Single_Vehicle'] = crash_data.apply(lambda row: row['X__of_Vehi'] == 1, axis=1)\n",
    "# intersection related\n",
    "crash_data['Intersection_Related'] = crash_data.apply(lambda row: \"Turning\" in str(row['Vehicle_Ma']), axis=1)\n",
    "# motorcycle related\n",
    "crash_data['Motorcycle_Related'] = crash_data.apply(lambda row: \"Motorcycle\" in str(row['Vehicle_Ty']), axis=1)\n",
    "\n"
   ]
  },
  {
   "cell_type": "markdown",
   "metadata": {},
   "source": [
    "## Compute CMFs"
   ]
  },
  {
   "cell_type": "code",
   "execution_count": 5,
   "metadata": {},
   "outputs": [],
   "source": [
    "def get_pivot_counts(data: pd.DataFrame, index='curve_id', field = 'Relation_To_HFST_Treatment_No_Covid', unique_values = ['before treatment', 'after treatment', 'unknown']):\n",
    "    pivot_count = pd.DataFrame()\n",
    "    for value in unique_values:\n",
    "        pivot_count[value] = pd.pivot_table(\n",
    "            data=data,\n",
    "            index=index,\n",
    "            values=[field],\n",
    "            aggfunc={\n",
    "                field: lambda column: column[column == value].count(),\n",
    "            }\n",
    "        )\n",
    "    pivot_count['Grand Total'] = pivot_count.sum(axis=1)\n",
    "    return pivot_count\n",
    "\n",
    "\n",
    "def compute_cmf(pivot_table: pd.DataFrame, years_before_treatment=3, years_after_treatment=3, before_columne_name='before treatment', after_column_name='after treatment'):\n",
    "    freq_before = pivot_table[before_columne_name].sum(axis=0)/years_before_treatment\n",
    "    freq_after = pivot_table[after_column_name].sum(axis=0)/years_after_treatment\n",
    "    if freq_before == 0:\n",
    "        return 1\n",
    "    return freq_after/freq_before\n"
   ]
  },
  {
   "cell_type": "markdown",
   "metadata": {},
   "source": [
    "### Total CMF"
   ]
  },
  {
   "cell_type": "code",
   "execution_count": 6,
   "metadata": {},
   "outputs": [
    {
     "data": {
      "text/html": [
       "<div>\n",
       "<style scoped>\n",
       "    .dataframe tbody tr th:only-of-type {\n",
       "        vertical-align: middle;\n",
       "    }\n",
       "\n",
       "    .dataframe tbody tr th {\n",
       "        vertical-align: top;\n",
       "    }\n",
       "\n",
       "    .dataframe thead th {\n",
       "        text-align: right;\n",
       "    }\n",
       "</style>\n",
       "<table border=\"1\" class=\"dataframe\">\n",
       "  <thead>\n",
       "    <tr style=\"text-align: right;\">\n",
       "      <th></th>\n",
       "      <th>before treatment</th>\n",
       "      <th>after treatment</th>\n",
       "      <th>unknown</th>\n",
       "      <th>Grand Total</th>\n",
       "    </tr>\n",
       "    <tr>\n",
       "      <th>curve_id</th>\n",
       "      <th></th>\n",
       "      <th></th>\n",
       "      <th></th>\n",
       "      <th></th>\n",
       "    </tr>\n",
       "  </thead>\n",
       "  <tbody>\n",
       "    <tr>\n",
       "      <th>1</th>\n",
       "      <td>2</td>\n",
       "      <td>1</td>\n",
       "      <td>1</td>\n",
       "      <td>4</td>\n",
       "    </tr>\n",
       "    <tr>\n",
       "      <th>2</th>\n",
       "      <td>3</td>\n",
       "      <td>1</td>\n",
       "      <td>0</td>\n",
       "      <td>4</td>\n",
       "    </tr>\n",
       "    <tr>\n",
       "      <th>3</th>\n",
       "      <td>1</td>\n",
       "      <td>0</td>\n",
       "      <td>0</td>\n",
       "      <td>1</td>\n",
       "    </tr>\n",
       "    <tr>\n",
       "      <th>4</th>\n",
       "      <td>0</td>\n",
       "      <td>0</td>\n",
       "      <td>1</td>\n",
       "      <td>1</td>\n",
       "    </tr>\n",
       "    <tr>\n",
       "      <th>6</th>\n",
       "      <td>2</td>\n",
       "      <td>1</td>\n",
       "      <td>2</td>\n",
       "      <td>5</td>\n",
       "    </tr>\n",
       "    <tr>\n",
       "      <th>...</th>\n",
       "      <td>...</td>\n",
       "      <td>...</td>\n",
       "      <td>...</td>\n",
       "      <td>...</td>\n",
       "    </tr>\n",
       "    <tr>\n",
       "      <th>269</th>\n",
       "      <td>1</td>\n",
       "      <td>0</td>\n",
       "      <td>1</td>\n",
       "      <td>2</td>\n",
       "    </tr>\n",
       "    <tr>\n",
       "      <th>270</th>\n",
       "      <td>2</td>\n",
       "      <td>0</td>\n",
       "      <td>0</td>\n",
       "      <td>2</td>\n",
       "    </tr>\n",
       "    <tr>\n",
       "      <th>271</th>\n",
       "      <td>0</td>\n",
       "      <td>3</td>\n",
       "      <td>0</td>\n",
       "      <td>3</td>\n",
       "    </tr>\n",
       "    <tr>\n",
       "      <th>272</th>\n",
       "      <td>2</td>\n",
       "      <td>1</td>\n",
       "      <td>0</td>\n",
       "      <td>3</td>\n",
       "    </tr>\n",
       "    <tr>\n",
       "      <th>273</th>\n",
       "      <td>0</td>\n",
       "      <td>0</td>\n",
       "      <td>4</td>\n",
       "      <td>4</td>\n",
       "    </tr>\n",
       "  </tbody>\n",
       "</table>\n",
       "<p>204 rows × 4 columns</p>\n",
       "</div>"
      ],
      "text/plain": [
       "          before treatment  after treatment  unknown  Grand Total\n",
       "curve_id                                                         \n",
       "1                        2                1        1            4\n",
       "2                        3                1        0            4\n",
       "3                        1                0        0            1\n",
       "4                        0                0        1            1\n",
       "6                        2                1        2            5\n",
       "...                    ...              ...      ...          ...\n",
       "269                      1                0        1            2\n",
       "270                      2                0        0            2\n",
       "271                      0                3        0            3\n",
       "272                      2                1        0            3\n",
       "273                      0                0        4            4\n",
       "\n",
       "[204 rows x 4 columns]"
      ]
     },
     "execution_count": 6,
     "metadata": {},
     "output_type": "execute_result"
    }
   ],
   "source": [
    "# pivot table\n",
    "total_cmf_table = get_pivot_counts(data=crash_data, field='Relation_To_HFST_Treatment_No_Covid')\n",
    "total_cmf_table\n"
   ]
  },
  {
   "cell_type": "code",
   "execution_count": 7,
   "metadata": {},
   "outputs": [
    {
     "name": "stdout",
     "output_type": "stream",
     "text": [
      "total cmf without covid data:  0.7\n",
      "total cmf with covid data:  0.69\n"
     ]
    }
   ],
   "source": [
    "# cmf results\n",
    "total_cmf_table = get_pivot_counts(data=crash_data, field='Relation_To_HFST_Treatment_No_Covid')\n",
    "total_cmf = compute_cmf(total_cmf_table, years_after_treatment=3, years_before_treatment=3)\n",
    "print(\"total cmf without covid data: \", total_cmf.round(2))\n",
    "\n",
    "total_cmf_table = get_pivot_counts(data=crash_data, field='Relation_To_HFST_Treatment')\n",
    "total_cmf = compute_cmf(total_cmf_table, years_after_treatment=4, years_before_treatment=3)\n",
    "print(\"total cmf with covid data: \", total_cmf.round(2))\n"
   ]
  },
  {
   "cell_type": "markdown",
   "metadata": {},
   "source": [
    "### Single Vehicle CMF\n"
   ]
  },
  {
   "cell_type": "code",
   "execution_count": 8,
   "metadata": {},
   "outputs": [
    {
     "name": "stdout",
     "output_type": "stream",
     "text": [
      "total cmf without covid data:  0.62\n",
      "total cmf with covid data:  0.6\n"
     ]
    }
   ],
   "source": [
    "# cmf results\n",
    "filtered_data = crash_data[crash_data['Single_Vehicle']]\n",
    "pivot_table = get_pivot_counts(data=filtered_data, field='Relation_To_HFST_Treatment_No_Covid')\n",
    "cmf = compute_cmf(pivot_table, years_after_treatment=3, years_before_treatment=3)\n",
    "print(\"total cmf without covid data: \", cmf.round(2))\n",
    "\n",
    "filtered_data = crash_data[crash_data['Single_Vehicle']]\n",
    "pivot_table = get_pivot_counts(data=filtered_data, field='Relation_To_HFST_Treatment')\n",
    "cmf = compute_cmf(pivot_table, years_after_treatment=4, years_before_treatment=3)\n",
    "print(\"total cmf with covid data: \", cmf.round(2))\n"
   ]
  },
  {
   "cell_type": "markdown",
   "metadata": {},
   "source": [
    "### Surface Condition"
   ]
  },
  {
   "cell_type": "code",
   "execution_count": 9,
   "metadata": {},
   "outputs": [
    {
     "name": "stdout",
     "output_type": "stream",
     "text": [
      "total cmf without covid data:  0.47\n",
      "total cmf with covid data:  0.44\n"
     ]
    }
   ],
   "source": [
    "# cmf results\n",
    "filtered_data = crash_data[crash_data['Surface_Co']=='Wet']\n",
    "pivot_table = get_pivot_counts(data=filtered_data, field='Relation_To_HFST_Treatment_No_Covid')\n",
    "cmf = compute_cmf(pivot_table, years_after_treatment=3, years_before_treatment=3)\n",
    "print(\"total cmf without covid data: \", cmf.round(2))\n",
    "\n",
    "filtered_data = crash_data[crash_data['Surface_Co']=='Wet']\n",
    "pivot_table = get_pivot_counts(data=filtered_data, field='Relation_To_HFST_Treatment')\n",
    "cmf = compute_cmf(pivot_table, years_after_treatment=4, years_before_treatment=3)\n",
    "print(\"total cmf with covid data: \", cmf.round(2))\n"
   ]
  }
 ],
 "metadata": {
  "interpreter": {
   "hash": "b3b60375d68594932bed6223c1f9271c138c133c1c41c51b53cf6e41e47ad321"
  },
  "kernelspec": {
   "display_name": "Python 3",
   "language": "python",
   "name": "python3"
  },
  "language_info": {
   "codemirror_mode": {
    "name": "ipython",
    "version": 3
   },
   "file_extension": ".py",
   "mimetype": "text/x-python",
   "name": "python",
   "nbconvert_exporter": "python",
   "pygments_lexer": "ipython3",
   "version": "3.9.2"
  }
 },
 "nbformat": 4,
 "nbformat_minor": 2
}
